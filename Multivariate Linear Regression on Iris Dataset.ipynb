{
 "cells": [
  {
   "cell_type": "code",
   "execution_count": 77,
   "metadata": {},
   "outputs": [
    {
     "data": {
      "text/html": [
       "<div>\n",
       "<style scoped>\n",
       "    .dataframe tbody tr th:only-of-type {\n",
       "        vertical-align: middle;\n",
       "    }\n",
       "\n",
       "    .dataframe tbody tr th {\n",
       "        vertical-align: top;\n",
       "    }\n",
       "\n",
       "    .dataframe thead th {\n",
       "        text-align: right;\n",
       "    }\n",
       "</style>\n",
       "<table border=\"1\" class=\"dataframe\">\n",
       "  <thead>\n",
       "    <tr style=\"text-align: right;\">\n",
       "      <th></th>\n",
       "      <th>sepal_length</th>\n",
       "      <th>sepal_width</th>\n",
       "      <th>petal_length</th>\n",
       "      <th>petal_width</th>\n",
       "      <th>species</th>\n",
       "    </tr>\n",
       "  </thead>\n",
       "  <tbody>\n",
       "    <tr>\n",
       "      <th>0</th>\n",
       "      <td>5.1</td>\n",
       "      <td>3.5</td>\n",
       "      <td>1.4</td>\n",
       "      <td>0.2</td>\n",
       "      <td>Iris-setosa</td>\n",
       "    </tr>\n",
       "    <tr>\n",
       "      <th>1</th>\n",
       "      <td>4.9</td>\n",
       "      <td>3.0</td>\n",
       "      <td>1.4</td>\n",
       "      <td>0.2</td>\n",
       "      <td>Iris-setosa</td>\n",
       "    </tr>\n",
       "    <tr>\n",
       "      <th>2</th>\n",
       "      <td>4.7</td>\n",
       "      <td>3.2</td>\n",
       "      <td>1.3</td>\n",
       "      <td>0.2</td>\n",
       "      <td>Iris-setosa</td>\n",
       "    </tr>\n",
       "    <tr>\n",
       "      <th>3</th>\n",
       "      <td>4.6</td>\n",
       "      <td>3.1</td>\n",
       "      <td>1.5</td>\n",
       "      <td>0.2</td>\n",
       "      <td>Iris-setosa</td>\n",
       "    </tr>\n",
       "    <tr>\n",
       "      <th>4</th>\n",
       "      <td>5.0</td>\n",
       "      <td>3.6</td>\n",
       "      <td>1.4</td>\n",
       "      <td>0.2</td>\n",
       "      <td>Iris-setosa</td>\n",
       "    </tr>\n",
       "  </tbody>\n",
       "</table>\n",
       "</div>"
      ],
      "text/plain": [
       "   sepal_length  sepal_width  petal_length  petal_width      species\n",
       "0           5.1          3.5           1.4          0.2  Iris-setosa\n",
       "1           4.9          3.0           1.4          0.2  Iris-setosa\n",
       "2           4.7          3.2           1.3          0.2  Iris-setosa\n",
       "3           4.6          3.1           1.5          0.2  Iris-setosa\n",
       "4           5.0          3.6           1.4          0.2  Iris-setosa"
      ]
     },
     "execution_count": 77,
     "metadata": {},
     "output_type": "execute_result"
    }
   ],
   "source": [
    "import numpy as np\n",
    "import pandas as pd\n",
    "import seaborn as sns\n",
    "import matplotlib.pyplot as plt\n",
    "from sklearn.metrics import accuracy_score\n",
    "\n",
    "data = pd.read_csv('/Users/username/Downloads/iris.csv')\n",
    "data.head()"
   ]
  },
  {
   "cell_type": "code",
   "execution_count": 78,
   "metadata": {},
   "outputs": [
    {
     "name": "stdout",
     "output_type": "stream",
     "text": [
      "<class 'pandas.core.frame.DataFrame'>\n",
      "RangeIndex: 150 entries, 0 to 149\n",
      "Data columns (total 5 columns):\n",
      "sepal_length    150 non-null float64\n",
      "sepal_width     150 non-null float64\n",
      "petal_length    150 non-null float64\n",
      "petal_width     150 non-null float64\n",
      "species         150 non-null object\n",
      "dtypes: float64(4), object(1)\n",
      "memory usage: 5.9+ KB\n"
     ]
    }
   ],
   "source": [
    "data.info()"
   ]
  },
  {
   "cell_type": "code",
   "execution_count": 79,
   "metadata": {},
   "outputs": [
    {
     "data": {
      "text/html": [
       "<div>\n",
       "<style scoped>\n",
       "    .dataframe tbody tr th:only-of-type {\n",
       "        vertical-align: middle;\n",
       "    }\n",
       "\n",
       "    .dataframe tbody tr th {\n",
       "        vertical-align: top;\n",
       "    }\n",
       "\n",
       "    .dataframe thead th {\n",
       "        text-align: right;\n",
       "    }\n",
       "</style>\n",
       "<table border=\"1\" class=\"dataframe\">\n",
       "  <thead>\n",
       "    <tr style=\"text-align: right;\">\n",
       "      <th></th>\n",
       "      <th>sepal_length</th>\n",
       "      <th>sepal_width</th>\n",
       "      <th>petal_length</th>\n",
       "      <th>petal_width</th>\n",
       "    </tr>\n",
       "  </thead>\n",
       "  <tbody>\n",
       "    <tr>\n",
       "      <th>count</th>\n",
       "      <td>150.000000</td>\n",
       "      <td>150.000000</td>\n",
       "      <td>150.000000</td>\n",
       "      <td>150.000000</td>\n",
       "    </tr>\n",
       "    <tr>\n",
       "      <th>mean</th>\n",
       "      <td>5.843333</td>\n",
       "      <td>3.057333</td>\n",
       "      <td>3.758000</td>\n",
       "      <td>1.199333</td>\n",
       "    </tr>\n",
       "    <tr>\n",
       "      <th>std</th>\n",
       "      <td>0.828066</td>\n",
       "      <td>0.435866</td>\n",
       "      <td>1.765298</td>\n",
       "      <td>0.762238</td>\n",
       "    </tr>\n",
       "    <tr>\n",
       "      <th>min</th>\n",
       "      <td>4.300000</td>\n",
       "      <td>2.000000</td>\n",
       "      <td>1.000000</td>\n",
       "      <td>0.100000</td>\n",
       "    </tr>\n",
       "    <tr>\n",
       "      <th>25%</th>\n",
       "      <td>5.100000</td>\n",
       "      <td>2.800000</td>\n",
       "      <td>1.600000</td>\n",
       "      <td>0.300000</td>\n",
       "    </tr>\n",
       "    <tr>\n",
       "      <th>50%</th>\n",
       "      <td>5.800000</td>\n",
       "      <td>3.000000</td>\n",
       "      <td>4.350000</td>\n",
       "      <td>1.300000</td>\n",
       "    </tr>\n",
       "    <tr>\n",
       "      <th>75%</th>\n",
       "      <td>6.400000</td>\n",
       "      <td>3.300000</td>\n",
       "      <td>5.100000</td>\n",
       "      <td>1.800000</td>\n",
       "    </tr>\n",
       "    <tr>\n",
       "      <th>max</th>\n",
       "      <td>7.900000</td>\n",
       "      <td>4.400000</td>\n",
       "      <td>6.900000</td>\n",
       "      <td>2.500000</td>\n",
       "    </tr>\n",
       "  </tbody>\n",
       "</table>\n",
       "</div>"
      ],
      "text/plain": [
       "       sepal_length  sepal_width  petal_length  petal_width\n",
       "count    150.000000   150.000000    150.000000   150.000000\n",
       "mean       5.843333     3.057333      3.758000     1.199333\n",
       "std        0.828066     0.435866      1.765298     0.762238\n",
       "min        4.300000     2.000000      1.000000     0.100000\n",
       "25%        5.100000     2.800000      1.600000     0.300000\n",
       "50%        5.800000     3.000000      4.350000     1.300000\n",
       "75%        6.400000     3.300000      5.100000     1.800000\n",
       "max        7.900000     4.400000      6.900000     2.500000"
      ]
     },
     "execution_count": 79,
     "metadata": {},
     "output_type": "execute_result"
    }
   ],
   "source": [
    "data.describe()"
   ]
  },
  {
   "cell_type": "code",
   "execution_count": 80,
   "metadata": {},
   "outputs": [
    {
     "data": {
      "text/plain": [
       "Iris-versicolor    50\n",
       "Iris-virginica     50\n",
       "Iris-setosa        50\n",
       "Name: species, dtype: int64"
      ]
     },
     "execution_count": 80,
     "metadata": {},
     "output_type": "execute_result"
    }
   ],
   "source": [
    "data['species'].value_counts()"
   ]
  },
  {
   "cell_type": "code",
   "execution_count": 81,
   "metadata": {},
   "outputs": [
    {
     "name": "stdout",
     "output_type": "stream",
     "text": [
      "Rows: 150, column : 5\n"
     ]
    }
   ],
   "source": [
    "rows, col=data.shape\n",
    "print(\"Rows: %s, column : %s\" %(rows,col))"
   ]
  },
  {
   "cell_type": "code",
   "execution_count": 87,
   "metadata": {},
   "outputs": [],
   "source": [
    "mapping = {\n",
    "    'Iris-setosa' : 1,\n",
    "    'Iris-versicolor' : 2,\n",
    "    'Iris-virginica' : 3\n",
    "}\n",
    "\n",
    "X =data.drop(['species'], axis=1).values\n",
    "y = data['species'].replace(mapping).values.reshape(rows,1)\n",
    "data2 = np.column_stack((X,y))\n",
    "y2 = data['species'].replace(mapping).values\n",
    "\n",
    "X= np.hstack(((np.ones((rows,1))),X))"
   ]
  },
  {
   "cell_type": "code",
   "execution_count": 89,
   "metadata": {},
   "outputs": [
    {
     "data": {
      "text/plain": [
       "array([1, 1, 1, 1, 1, 1, 1, 1, 1, 1, 1, 1, 1, 1, 1, 1, 1, 1, 1, 1, 1, 1,\n",
       "       1, 1, 1, 1, 1, 1, 1, 1, 1, 1, 1, 1, 1, 1, 1, 1, 1, 1, 1, 1, 1, 1,\n",
       "       1, 1, 1, 1, 1, 1, 2, 2, 2, 2, 2, 2, 2, 2, 2, 2, 2, 2, 2, 2, 2, 2,\n",
       "       2, 2, 2, 2, 2, 2, 2, 2, 2, 2, 2, 2, 2, 2, 2, 2, 2, 2, 2, 2, 2, 2,\n",
       "       2, 2, 2, 2, 2, 2, 2, 2, 2, 2, 2, 2, 3, 3, 3, 3, 3, 3, 3, 3, 3, 3,\n",
       "       3, 3, 3, 3, 3, 3, 3, 3, 3, 3, 3, 3, 3, 3, 3, 3, 3, 3, 3, 3, 3, 3,\n",
       "       3, 3, 3, 3, 3, 3, 3, 3, 3, 3, 3, 3, 3, 3, 3, 3, 3, 3])"
      ]
     },
     "execution_count": 89,
     "metadata": {},
     "output_type": "execute_result"
    }
   ],
   "source": [
    "y2"
   ]
  },
  {
   "cell_type": "code",
   "execution_count": 84,
   "metadata": {},
   "outputs": [
    {
     "data": {
      "text/plain": [
       "LinearRegression(copy_X=True, fit_intercept=True, n_jobs=1, normalize=False)"
      ]
     },
     "execution_count": 84,
     "metadata": {},
     "output_type": "execute_result"
    }
   ],
   "source": [
    "from sklearn.linear_model import LinearRegression\n",
    "regressor = LinearRegression()\n",
    "regressor.fit(X, y)"
   ]
  },
  {
   "cell_type": "code",
   "execution_count": 92,
   "metadata": {},
   "outputs": [
    {
     "data": {
      "text/plain": [
       "array([[1.39369454],\n",
       "       [1.44964746],\n",
       "       [1.43127424],\n",
       "       [1.43444893],\n",
       "       [1.38250395],\n",
       "       [1.38263735],\n",
       "       [1.42774963],\n",
       "       [1.40087717],\n",
       "       [1.46083805],\n",
       "       [1.41158443],\n",
       "       [1.36730542],\n",
       "       [1.39686923],\n",
       "       [1.42678296],\n",
       "       [1.43880681],\n",
       "       [1.34575751],\n",
       "       [1.33470033],\n",
       "       [1.39866915],\n",
       "       [1.41655904],\n",
       "       [1.37096344],\n",
       "       [1.37897933],\n",
       "       [1.39286128],\n",
       "       [1.41303442],\n",
       "       [1.39853575],\n",
       "       [1.47264537],\n",
       "       [1.38484538],\n",
       "       [1.44163157],\n",
       "       [1.44259823],\n",
       "       [1.38968659],\n",
       "       [1.40488512],\n",
       "       [1.4192504 ],\n",
       "       [1.43044098],\n",
       "       [1.44660618],\n",
       "       [1.29967857],\n",
       "       [1.31536044],\n",
       "       [1.43444893],\n",
       "       [1.43528219],\n",
       "       [1.39770249],\n",
       "       [1.35963945],\n",
       "       [1.45365541],\n",
       "       [1.40087717],\n",
       "       [1.42056699],\n",
       "       [1.55485401],\n",
       "       [1.43127424],\n",
       "       [1.47713665],\n",
       "       [1.38581204],\n",
       "       [1.47251197],\n",
       "       [1.35210688],\n",
       "       [1.42726629],\n",
       "       [1.36730542],\n",
       "       [1.41607571],\n",
       "       [2.17863007],\n",
       "       [2.20951047],\n",
       "       [2.20466927],\n",
       "       [2.28453648],\n",
       "       [2.25026487],\n",
       "       [2.20854381],\n",
       "       [2.21316849],\n",
       "       [2.23280803],\n",
       "       [2.19334528],\n",
       "       [2.26664659],\n",
       "       [2.26955447],\n",
       "       [2.24391549],\n",
       "       [2.22713356],\n",
       "       [2.21220183],\n",
       "       [2.23342476],\n",
       "       [2.20184451],\n",
       "       [2.23189165],\n",
       "       [2.16717268],\n",
       "       [2.32141633],\n",
       "       [2.22043425],\n",
       "       [2.26608014],\n",
       "       [2.22858355],\n",
       "       [2.27181278],\n",
       "       [2.17766341],\n",
       "       [2.20536912],\n",
       "       [2.21303509],\n",
       "       [2.21938447],\n",
       "       [2.25758091],\n",
       "       [2.24308223],\n",
       "       [2.20241096],\n",
       "       [2.23563279],\n",
       "       [2.21677623],\n",
       "       [2.22091759],\n",
       "       [2.26428021],\n",
       "       [2.23189165],\n",
       "       [2.20999381],\n",
       "       [2.21268516],\n",
       "       [2.26850469],\n",
       "       [2.20219443],\n",
       "       [2.26215531],\n",
       "       [2.21206843],\n",
       "       [2.20501919],\n",
       "       [2.22810022],\n",
       "       [2.24399861],\n",
       "       [2.23175824],\n",
       "       [2.17532198],\n",
       "       [2.20937707],\n",
       "       [2.20536912],\n",
       "       [2.25650579],\n",
       "       [2.22457561],\n",
       "       [2.97609774],\n",
       "       [2.94212577],\n",
       "       [2.92221943],\n",
       "       [2.87684036],\n",
       "       [2.94909189],\n",
       "       [2.89416379],\n",
       "       [2.94282563],\n",
       "       [2.84878472],\n",
       "       [2.9135868 ],\n",
       "       [2.93851804],\n",
       "       [2.90903735],\n",
       "       [2.93410988],\n",
       "       [2.93825123],\n",
       "       [2.9913794 ],\n",
       "       [3.0452577 ],\n",
       "       [2.96961496],\n",
       "       [2.86965772],\n",
       "       [2.82349567],\n",
       "       [2.9726313 ],\n",
       "       [2.91062864],\n",
       "       [2.95358317],\n",
       "       [2.96181559],\n",
       "       [2.88967251],\n",
       "       [2.92727717],\n",
       "       [2.89666358],\n",
       "       [2.82723681],\n",
       "       [2.92009453],\n",
       "       [2.89370541],\n",
       "       [2.95662445],\n",
       "       [2.81190487],\n",
       "       [2.8908557 ],\n",
       "       [2.78979051],\n",
       "       [2.97948895],\n",
       "       [2.83947718],\n",
       "       [2.8189541 ],\n",
       "       [2.95993254],\n",
       "       [2.95807445],\n",
       "       [2.85846714],\n",
       "       [2.89771336],\n",
       "       [2.93106859],\n",
       "       [2.9916462 ],\n",
       "       [2.98882144],\n",
       "       [2.94212577],\n",
       "       [2.94556727],\n",
       "       [2.98812159],\n",
       "       [2.99600408],\n",
       "       [2.96851489],\n",
       "       [2.92741057],\n",
       "       [2.94322584],\n",
       "       [2.88568952]])"
      ]
     },
     "execution_count": 92,
     "metadata": {},
     "output_type": "execute_result"
    }
   ],
   "source": [
    "y_pred = regressor.predict(data2)\n",
    "y_pred\n"
   ]
  },
  {
   "cell_type": "code",
   "execution_count": 97,
   "metadata": {},
   "outputs": [
    {
     "name": "stdout",
     "output_type": "stream",
     "text": [
      "100.0 %\n"
     ]
    }
   ],
   "source": [
    "accuracy = regressor.score(data2,y_pred)\n",
    "print(accuracy*100,'%')"
   ]
  },
  {
   "cell_type": "code",
   "execution_count": null,
   "metadata": {},
   "outputs": [],
   "source": []
  }
 ],
 "metadata": {
  "kernelspec": {
   "display_name": "Python 3",
   "language": "python",
   "name": "python3"
  },
  "language_info": {
   "codemirror_mode": {
    "name": "ipython",
    "version": 3
   },
   "file_extension": ".py",
   "mimetype": "text/x-python",
   "name": "python",
   "nbconvert_exporter": "python",
   "pygments_lexer": "ipython3",
   "version": "3.7.0"
  }
 },
 "nbformat": 4,
 "nbformat_minor": 2
}
